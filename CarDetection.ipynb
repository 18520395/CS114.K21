{
  "nbformat": 4,
  "nbformat_minor": 0,
  "metadata": {
    "colab": {
      "name": "CarDetection.ipynb",
      "provenance": [],
      "mount_file_id": "1_3GUXs_9h6MB86hkMo7UBoA4MXYE9LQ6",
      "authorship_tag": "ABX9TyMNztHcX/yImf3ISP9LKbsS",
      "include_colab_link": true
    },
    "kernelspec": {
      "name": "python3",
      "display_name": "Python 3"
    }
  },
  "cells": [
    {
      "cell_type": "markdown",
      "metadata": {
        "id": "view-in-github",
        "colab_type": "text"
      },
      "source": [
        "<a href=\"https://colab.research.google.com/github/18520395/CS114.K21/blob/master/CarDetection.ipynb\" target=\"_parent\"><img src=\"https://colab.research.google.com/assets/colab-badge.svg\" alt=\"Open In Colab\"/></a>"
      ]
    },
    {
      "cell_type": "markdown",
      "metadata": {
        "id": "-ozxhZigJuW1",
        "colab_type": "text"
      },
      "source": [
        "CAR DETECTION"
      ]
    },
    {
      "cell_type": "code",
      "metadata": {
        "id": "XXyobEQ5fimN",
        "colab_type": "code",
        "colab": {}
      },
      "source": [
        "#Unzip dataset zip file / Giải nén dataset\n"
      ],
      "execution_count": null,
      "outputs": []
    },
    {
      "cell_type": "markdown",
      "metadata": {
        "id": "bL6s1_dpjoD4",
        "colab_type": "text"
      },
      "source": [
        "Read images / Lấy ảnh"
      ]
    },
    {
      "cell_type": "code",
      "metadata": {
        "id": "EzC2p8zBJtwy",
        "colab_type": "code",
        "colab": {}
      },
      "source": [
        "#Import libraries / Thêm thư viện \n",
        "import glob\n",
        "import cv2 as cv2\n",
        "import numpy as np\n",
        "import matplotlib.pyplot as plt\n",
        "import random\n",
        "from skimage.feature import hog"
      ],
      "execution_count": null,
      "outputs": []
    },
    {
      "cell_type": "code",
      "metadata": {
        "id": "KhSL8UzahNMv",
        "colab_type": "code",
        "colab": {}
      },
      "source": [
        "#Getting images paths / Lấy đường dẫn của ảnh\n",
        "\n",
        "#reading image paths with glob / đọc đường dẫn của ảnh bằng glob\n",
        "vehicle_image_arr = glob.glob('./vehicles/vehicles/*/*.png')\n",
        "\n",
        "# read images and append to list / thêm ảnh vào các list\n",
        "vehicle_images_original=[]\n",
        "for imagePath in vehicle_image_arr:\n",
        "    readImage=cv2.imread(imagePath)\n",
        "    rgbImage = cv2.cvtColor(readImage, cv2.COLOR_BGR2RGB)\n",
        "    vehicle_images_original.append(rgbImage)\n",
        "\n",
        "print('Reading of Vehicle Images Completed!')\n",
        "\n",
        "non_vehicle_image_arr = glob.glob('./non-vehicles/non-vehicles/*/*.png')\n",
        "\n",
        "\n",
        "non_vehicle_images_original=[]\n",
        "for imagePath in non_vehicle_image_arr:\n",
        "    readImage=cv2.imread(imagePath)\n",
        "    rgbImage = cv2.cvtColor(readImage, cv2.COLOR_BGR2RGB)\n",
        "    non_vehicle_images_original.append(rgbImage)\n",
        "\n",
        "print(\"Reading of Non Vehicle Images Completed!\")\n",
        "\n",
        "print(\"No of Vehicle Images Loaded : \"+ str(len(vehicle_image_arr)))\n",
        "print(\"No of Non-Vehicle Images Loaded : \"+ str(len(non_vehicle_images_original)))"
      ],
      "execution_count": null,
      "outputs": []
    },
    {
      "cell_type": "code",
      "metadata": {
        "id": "2jea8Ex8hNYI",
        "colab_type": "code",
        "colab": {}
      },
      "source": [
        "# Visualizing the Vehicle and Non Vehicle Images\n",
        "\n",
        "f, axes = plt.subplots(4,2, figsize=(10,10))\n",
        "plt.subplots_adjust(hspace=0.5)\n",
        "\n",
        "for index in range(4):\n",
        "    vehicle=random.randint(0, len(vehicle_images_original)-1)\n",
        "    non_vehicle=random.randint(0, len(non_vehicle_images_original)-1)\n",
        "    axes[index,0].imshow(vehicle_images_original[vehicle])\n",
        "    axes[index,0].set_title(\"Vehicle\")\n",
        "    axes[index,1].imshow(non_vehicle_images_original[non_vehicle])\n",
        "    axes[index,1].set_title(\"Non Vehicle\")\n",
        "print(\"Shape of Vehicle Image : \" +  str(vehicle_images_original[vehicle].shape))\n",
        "print(\"Shape of Non Vehicle Image : \" +  str(non_vehicle_images_original[non_vehicle].shape))"
      ],
      "execution_count": null,
      "outputs": []
    },
    {
      "cell_type": "markdown",
      "metadata": {
        "id": "fWo98Mlmju2z",
        "colab_type": "text"
      },
      "source": [
        "Extract features / "
      ]
    },
    {
      "cell_type": "markdown",
      "metadata": {
        "id": "dlZ_Eg_1MQuQ",
        "colab_type": "text"
      },
      "source": [
        "2.1 Color Spaces"
      ]
    },
    {
      "cell_type": "code",
      "metadata": {
        "id": "o2ZqO_EFpeQv",
        "colab_type": "code",
        "colab": {}
      },
      "source": [
        "#Extract Color Space / \n",
        "\n",
        "#Creating a Histogram / \n",
        "def ExtractColorHistogram(image, nbins=32, bins_range=(0,255), resize=None):\n",
        "    if(resize !=None):\n",
        "        image= cv2.resize(image, resize)\n",
        "    zero_channel= np.histogram(image[:,:,0], bins=nbins, range=bins_range)\n",
        "    first_channel= np.histogram(image[:,:,1], bins=nbins, range=bins_range)\n",
        "    second_channel= np.histogram(image[:,:,2], bins=nbins, range=bins_range)\n",
        "    return zero_channel,first_channel, second_channel\n",
        "\n",
        "#Find Center of the bin edges / \n",
        "def FindBinCenter(histogram_channel):\n",
        "    bin_edges = histogram_channel[1]\n",
        "    bin_centers = (bin_edges[1:]  + bin_edges[0:len(bin_edges)-1])/2\n",
        "    return bin_centers\n",
        "\n",
        "#Extracting Color Features from bin lengths / \n",
        "def ExtractColorFeatures(zero_channel, first_channel, second_channel):\n",
        "    return np.concatenate((zero_channel[0], first_channel[0], second_channel[0]))\n"
      ],
      "execution_count": null,
      "outputs": []
    },
    {
      "cell_type": "code",
      "metadata": {
        "id": "Kk4JK58YLrma",
        "colab_type": "code",
        "colab": {}
      },
      "source": [
        "#Checking Color Features for Vehicles\n",
        "\n",
        "f, axes= plt.subplots(4,5, figsize=(20,10))\n",
        "f.subplots_adjust(hspace=0.5)\n",
        "\n",
        "for index in range(4):\n",
        "    \n",
        "    vehicle=random.randint(0, len(vehicle_images_original)-1)\n",
        "    non_vehicle=random.randint(0, len(non_vehicle_images_original)-1)\n",
        "    \n",
        "    coloredImage= cv2.cvtColor(vehicle_images_original[vehicle],cv2.COLOR_RGB2YUV)\n",
        "    r,g,b = ExtractColorHistogram(coloredImage,128)\n",
        "   \n",
        "    center= FindBinCenter(r)\n",
        "    axes[index,0].imshow(vehicle_images_original[vehicle])\n",
        "    axes[index,0].set_title(\"Vehicle\")\n",
        "    axes[index,1].set_xlim(0,256)\n",
        "    axes[index,1].bar(center,r[0])\n",
        "    axes[index,1].set_title(\"Y\")\n",
        "    axes[index,2].set_xlim(0,256)\n",
        "    axes[index,2].bar(center,g[0])\n",
        "    axes[index,2].set_title(\"U\")\n",
        "    axes[index,3].set_xlim(0,256)\n",
        "    axes[index,3].bar(center,b[0])\n",
        "    axes[index,3].set_title(\"V\")\n",
        "    axes[index,4].imshow(coloredImage)\n",
        "    axes[index,4].set_title(\"YUV colorspace\")\n",
        "    \n",
        "features = ExtractColorFeatures(r,g,b)\n",
        "print(\"No of features are \"+ str(len(features)))"
      ],
      "execution_count": null,
      "outputs": []
    },
    {
      "cell_type": "code",
      "metadata": {
        "id": "F16-JJDELrop",
        "colab_type": "code",
        "colab": {}
      },
      "source": [
        "#Checking Color Features for Non Vehicles\n",
        "\n",
        "f, axes= plt.subplots(4,5, figsize=(20,10))\n",
        "f.subplots_adjust(hspace=0.5)\n",
        "\n",
        "for index in range(4):\n",
        "    non_vehicle=random.randint(0, len(non_vehicle_images_original)-1)\n",
        "    coloredImage= cv2.cvtColor(non_vehicle_images_original[non_vehicle],cv2.COLOR_RGB2YUV)\n",
        "    r,g,b = ExtractColorHistogram(coloredImage)\n",
        "    \n",
        "    center= FindBinCenter(r)\n",
        "    axes[index,0].imshow(non_vehicle_images_original[non_vehicle])\n",
        "    axes[index,0].set_title(\"Non Vehicle\")\n",
        "    axes[index,1].set_xlim(0,256)\n",
        "    axes[index,1].bar(center,r[0])\n",
        "    axes[index,1].set_title(\"Y\")\n",
        "    axes[index,2].set_xlim(0,256)\n",
        "    axes[index,2].bar(center,g[0])\n",
        "    axes[index,2].set_title(\"U\")\n",
        "    axes[index,3].set_xlim(0,256)\n",
        "    axes[index,3].bar(center,b[0])\n",
        "    axes[index,3].set_title(\"V\")\n",
        "    axes[index,4].imshow(coloredImage)\n",
        "    axes[index,4].set_title(\"YUV colorspace\")"
      ],
      "execution_count": null,
      "outputs": []
    },
    {
      "cell_type": "markdown",
      "metadata": {
        "id": "Z2WfLl9-MFLa",
        "colab_type": "text"
      },
      "source": [
        "2.2 Spatial Binning"
      ]
    },
    {
      "cell_type": "code",
      "metadata": {
        "id": "FcB9GFAHMOIy",
        "colab_type": "code",
        "colab": {}
      },
      "source": [
        "#Resizing Image to extract features, so as to reduce the feature vector size\n",
        "def SpatialBinningFeatures(image,size):\n",
        "    image= cv2.resize(image,size)\n",
        "    return image.ravel()"
      ],
      "execution_count": null,
      "outputs": []
    },
    {
      "cell_type": "code",
      "metadata": {
        "id": "0yF36iV9M4tv",
        "colab_type": "code",
        "colab": {}
      },
      "source": [
        "#testing the spatial binning\n",
        "\n",
        "featureList=SpatialBinningFeatures(vehicle_images_original[1],(16,16))\n",
        "print(\"No of features before spatial binning : \",len(vehicle_images_original[1].ravel()))\n",
        "print(\"No of features after spatial binning : \",len(featureList))"
      ],
      "execution_count": null,
      "outputs": []
    },
    {
      "cell_type": "markdown",
      "metadata": {
        "id": "wTI4CKtxNOiY",
        "colab_type": "text"
      },
      "source": [
        "2.3 HOG (Histogram of Oriented Grandients)"
      ]
    },
    {
      "cell_type": "code",
      "metadata": {
        "id": "R5gi99z5NV-3",
        "colab_type": "code",
        "colab": {}
      },
      "source": [
        "#General method to extact the HOG of the image\n",
        "\n",
        "def GetFeaturesFromHog(image,orient,cellsPerBlock,pixelsPerCell, visualise= False, feature_vector_flag=True):\n",
        "    if(visualise==True):\n",
        "        hog_features, hog_image = hog(image, orientations=orient,\n",
        "                          pixels_per_cell=(pixelsPerCell, pixelsPerCell), \n",
        "                          cells_per_block=(cellsPerBlock, cellsPerBlock), \n",
        "                          visualise=True, feature_vector=feature_vector_flag)\n",
        "        return hog_features, hog_image\n",
        "    else:\n",
        "        hog_features = hog(image, orientations=orient,\n",
        "                          pixels_per_cell=(pixelsPerCell, pixelsPerCell), \n",
        "                          cells_per_block=(cellsPerBlock, cellsPerBlock), \n",
        "                          visualise=False, feature_vector=feature_vector_flag)\n",
        "        return hog_features"
      ],
      "execution_count": null,
      "outputs": []
    },
    {
      "cell_type": "code",
      "metadata": {
        "id": "eliDUrmLN9sB",
        "colab_type": "code",
        "colab": {}
      },
      "source": [
        "#Testing HOG on test images\n",
        "\n",
        "image=vehicle_images_original[1]\n",
        "image= cv2.cvtColor(image, cv2.COLOR_RGB2YUV)\n",
        "image_channel_0=image[:,:,0]\n",
        "image_channel_1=image[:,:,0]\n",
        "image_channel_2=image[:,:,0]\n",
        "\n",
        "feature_0,hog_img_0=GetFeaturesFromHog(image_channel_0,9,2,16,visualise=True,feature_vector_flag=True)\n",
        "feature_1,hog_img_1=GetFeaturesFromHog(image_channel_1,9,2,16,visualise=True,feature_vector_flag=True)\n",
        "feature_2,hog_img_2=GetFeaturesFromHog(image_channel_2,9,2,16,visualise=True,feature_vector_flag=True)\n",
        "\n",
        "f, axes= plt.subplots(1,4,figsize=(20,10))\n",
        "axes[0].imshow(vehicle_images_original[1])\n",
        "axes[1].imshow(hog_img_0)\n",
        "axes[2].imshow(hog_img_1)\n",
        "axes[3].imshow(hog_img_2)\n",
        "\n",
        "\n",
        "print(\"Feature Vector Length Returned is : \",len(feature_0))\n",
        "print(\"No of features that can be extracted from image : \",len(hog_img_0.ravel()))"
      ],
      "execution_count": null,
      "outputs": []
    },
    {
      "cell_type": "markdown",
      "metadata": {
        "id": "tJOMF8ByOLfa",
        "colab_type": "text"
      },
      "source": [
        "Generate Features Data"
      ]
    },
    {
      "cell_type": "code",
      "metadata": {
        "id": "imBsaDRrOSc6",
        "colab_type": "code",
        "colab": {}
      },
      "source": [
        ""
      ],
      "execution_count": null,
      "outputs": []
    }
  ]
}